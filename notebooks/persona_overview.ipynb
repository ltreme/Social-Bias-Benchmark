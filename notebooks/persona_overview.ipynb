{
 "cells": [
  {
   "cell_type": "markdown",
   "metadata": {},
   "source": [
    "# Persona Overview\n",
    "Explorative Notebook fuer erste Einblicke in die Persona-Datensaetze. Laedt die Daten ueber das Analyse-Modul und zeigt einige Standard-Plots."
   ]
  },
  {
   "cell_type": "code",
   "execution_count": 1,
   "metadata": {},
   "outputs": [
    {
     "data": {
      "text/html": [
       "<div>\n",
       "<style scoped>\n",
       "    .dataframe tbody tr th:only-of-type {\n",
       "        vertical-align: middle;\n",
       "    }\n",
       "\n",
       "    .dataframe tbody tr th {\n",
       "        vertical-align: top;\n",
       "    }\n",
       "\n",
       "    .dataframe thead th {\n",
       "        text-align: right;\n",
       "    }\n",
       "</style>\n",
       "<table border=\"1\" class=\"dataframe\">\n",
       "  <thead>\n",
       "    <tr style=\"text-align: right;\">\n",
       "      <th></th>\n",
       "      <th>persona_uuid</th>\n",
       "      <th>gen_id</th>\n",
       "      <th>age</th>\n",
       "      <th>gender</th>\n",
       "      <th>education</th>\n",
       "      <th>occupation</th>\n",
       "      <th>marriage_status</th>\n",
       "      <th>migration_status</th>\n",
       "      <th>religion</th>\n",
       "      <th>sexuality</th>\n",
       "      <th>created_at</th>\n",
       "      <th>origin_country_en</th>\n",
       "      <th>origin_country_de</th>\n",
       "      <th>origin_region</th>\n",
       "      <th>origin_subregion</th>\n",
       "    </tr>\n",
       "  </thead>\n",
       "  <tbody>\n",
       "    <tr>\n",
       "      <th>0</th>\n",
       "      <td>a753f391-a20e-40d5-9b56-48d937273b72</td>\n",
       "      <td>12</td>\n",
       "      <td>26</td>\n",
       "      <td>male</td>\n",
       "      <td>Noch in schulischer Ausbildung</td>\n",
       "      <td>Arzt/Ärztin</td>\n",
       "      <td>married</td>\n",
       "      <td>without_migration</td>\n",
       "      <td>Muslims</td>\n",
       "      <td>heterosexual</td>\n",
       "      <td>2025-09-10 17:42:39.492560</td>\n",
       "      <td>Germany</td>\n",
       "      <td>Deutschland</td>\n",
       "      <td>Europe</td>\n",
       "      <td>Western Europe</td>\n",
       "    </tr>\n",
       "    <tr>\n",
       "      <th>1</th>\n",
       "      <td>f91a6181-d3f1-475b-90fa-569af040fabd</td>\n",
       "      <td>12</td>\n",
       "      <td>51</td>\n",
       "      <td>female</td>\n",
       "      <td>Haupt- (Volks-)schulabschluss</td>\n",
       "      <td>Informatiker/in</td>\n",
       "      <td>married</td>\n",
       "      <td>with_migration</td>\n",
       "      <td>Christians</td>\n",
       "      <td>heterosexual</td>\n",
       "      <td>2025-09-10 17:42:39.492574</td>\n",
       "      <td>Ukraine</td>\n",
       "      <td>Ukraine</td>\n",
       "      <td>Europe</td>\n",
       "      <td>Eastern Europe</td>\n",
       "    </tr>\n",
       "    <tr>\n",
       "      <th>2</th>\n",
       "      <td>51495675-ae06-4ae0-8c85-915b6e1551a3</td>\n",
       "      <td>12</td>\n",
       "      <td>26</td>\n",
       "      <td>male</td>\n",
       "      <td>Noch in schulischer Ausbildung</td>\n",
       "      <td>Arzt/Ärztin</td>\n",
       "      <td>single</td>\n",
       "      <td>without_migration</td>\n",
       "      <td>Christians</td>\n",
       "      <td>heterosexual</td>\n",
       "      <td>2025-09-10 17:42:39.492583</td>\n",
       "      <td>Germany</td>\n",
       "      <td>Deutschland</td>\n",
       "      <td>Europe</td>\n",
       "      <td>Western Europe</td>\n",
       "    </tr>\n",
       "    <tr>\n",
       "      <th>3</th>\n",
       "      <td>cd49fbfd-0206-442b-ab43-7662ed47e2be</td>\n",
       "      <td>12</td>\n",
       "      <td>58</td>\n",
       "      <td>female</td>\n",
       "      <td>Haupt- (Volks-)schulabschluss</td>\n",
       "      <td>Krankenpfleger/in</td>\n",
       "      <td>divorced</td>\n",
       "      <td>without_migration</td>\n",
       "      <td>Christians</td>\n",
       "      <td>heterosexual</td>\n",
       "      <td>2025-09-10 17:42:39.492590</td>\n",
       "      <td>Germany</td>\n",
       "      <td>Deutschland</td>\n",
       "      <td>Europe</td>\n",
       "      <td>Western Europe</td>\n",
       "    </tr>\n",
       "    <tr>\n",
       "      <th>4</th>\n",
       "      <td>007653e6-569b-473a-86da-028276d66e48</td>\n",
       "      <td>12</td>\n",
       "      <td>18</td>\n",
       "      <td>male</td>\n",
       "      <td>Noch in schulischer Ausbildung</td>\n",
       "      <td>Verkäufer/in</td>\n",
       "      <td>single</td>\n",
       "      <td>without_migration</td>\n",
       "      <td>Religiously_unaffiliated</td>\n",
       "      <td>heterosexual</td>\n",
       "      <td>2025-09-10 17:42:39.492601</td>\n",
       "      <td>Germany</td>\n",
       "      <td>Deutschland</td>\n",
       "      <td>Europe</td>\n",
       "      <td>Western Europe</td>\n",
       "    </tr>\n",
       "  </tbody>\n",
       "</table>\n",
       "</div>"
      ],
      "text/plain": [
       "                           persona_uuid  gen_id  age  gender  \\\n",
       "0  a753f391-a20e-40d5-9b56-48d937273b72      12   26    male   \n",
       "1  f91a6181-d3f1-475b-90fa-569af040fabd      12   51  female   \n",
       "2  51495675-ae06-4ae0-8c85-915b6e1551a3      12   26    male   \n",
       "3  cd49fbfd-0206-442b-ab43-7662ed47e2be      12   58  female   \n",
       "4  007653e6-569b-473a-86da-028276d66e48      12   18    male   \n",
       "\n",
       "                        education         occupation marriage_status  \\\n",
       "0  Noch in schulischer Ausbildung        Arzt/Ärztin         married   \n",
       "1   Haupt- (Volks-)schulabschluss    Informatiker/in         married   \n",
       "2  Noch in schulischer Ausbildung        Arzt/Ärztin          single   \n",
       "3   Haupt- (Volks-)schulabschluss  Krankenpfleger/in        divorced   \n",
       "4  Noch in schulischer Ausbildung       Verkäufer/in          single   \n",
       "\n",
       "    migration_status                  religion     sexuality  \\\n",
       "0  without_migration                   Muslims  heterosexual   \n",
       "1     with_migration                Christians  heterosexual   \n",
       "2  without_migration                Christians  heterosexual   \n",
       "3  without_migration                Christians  heterosexual   \n",
       "4  without_migration  Religiously_unaffiliated  heterosexual   \n",
       "\n",
       "                  created_at origin_country_en origin_country_de  \\\n",
       "0 2025-09-10 17:42:39.492560           Germany       Deutschland   \n",
       "1 2025-09-10 17:42:39.492574           Ukraine           Ukraine   \n",
       "2 2025-09-10 17:42:39.492583           Germany       Deutschland   \n",
       "3 2025-09-10 17:42:39.492590           Germany       Deutschland   \n",
       "4 2025-09-10 17:42:39.492601           Germany       Deutschland   \n",
       "\n",
       "  origin_region origin_subregion  \n",
       "0        Europe   Western Europe  \n",
       "1        Europe   Eastern Europe  \n",
       "2        Europe   Western Europe  \n",
       "3        Europe   Western Europe  \n",
       "4        Europe   Western Europe  "
      ]
     },
     "execution_count": 1,
     "metadata": {},
     "output_type": "execute_result"
    }
   ],
   "source": [
    "import sys\n",
    "from pathlib import Path\n",
    "\n",
    "project_root = Path.cwd()\n",
    "analysis_src = project_root / 'apps' / 'analysis' / 'src'\n",
    "if str(analysis_src) not in sys.path:\n",
    "    sys.path.append(str(analysis_src))\n",
    "\n",
    "from analysis.persona.analytics import (\n",
    "    PersonaDataConfig,\n",
    "    load_persona_dataframe,\n",
    "    plot_age_distribution,\n",
    "    plot_category_distribution,\n",
    ")\n",
    "\n",
    "config = PersonaDataConfig.from_iterable([12, 13, 14, 15, 16])\n",
    "df = load_persona_dataframe(config)\n",
    "df.head()"
   ]
  },
  {
   "cell_type": "code",
   "execution_count": 2,
   "id": "aa6e002f",
   "metadata": {},
   "outputs": [
    {
     "data": {
      "text/plain": [
       "<Axes: title={'center': 'Age distribution by gen_id'}, xlabel='Age', ylabel='Share'>"
      ]
     },
     "execution_count": 2,
     "metadata": {},
     "output_type": "execute_result"
    },
    {
     "data": {
      "image/png": "[encoded data removed]",
      "text/plain": [
       "<Figure size 800x400 with 1 Axes>"
      ]
     },
     "metadata": {},
     "output_type": "display_data"
    }
   ],
   "source": [
    "plot_age_distribution(df)"
   ]
  },
  {
   "cell_type": "code",
   "execution_count": 3,
   "id": "c30699c4",
   "metadata": {},
   "outputs": [
    {
     "data": {
      "text/plain": [
       "<Axes: title={'center': 'Distribution of Gender'}, xlabel='Gender', ylabel='Share'>"
      ]
     },
     "execution_count": 3,
     "metadata": {},
     "output_type": "execute_result"
    },
    {
     "data": {
      "image/png": "[encoded data removed]",
      "text/plain": [
       "<Figure size 800x400 with 1 Axes>"
      ]
     },
     "metadata": {},
     "output_type": "display_data"
    }
   ],
   "source": [
    "plot_category_distribution(df, \"gender\")"
   ]
  },
  {
   "cell_type": "code",
   "execution_count": 4,
   "id": "c24e6c3a",
   "metadata": {},
   "outputs": [
    {
     "name": "stdout",
     "output_type": "stream",
     "text": [
      "/home/markus/projects/Social-Bias-Benchmark/apps/analysis/src/analysis/__init__.py\n"
     ]
    }
   ],
   "source": [
    "import analysis, inspect; print(analysis.__file__)"
   ]
  },
  {
   "cell_type": "code",
   "execution_count": 5,
   "id": "b50c0948",
   "metadata": {},
   "outputs": [
    {
     "name": "stdout",
     "output_type": "stream",
     "text": [
      "<peewee.SqliteDatabase object at 0x7146ea5a6e10>\n"
     ]
    }
   ],
   "source": [
    "from shared.storage.db import get_db; print(get_db())"
   ]
  },
  {
   "cell_type": "code",
   "execution_count": 6,
   "id": "5cf44983",
   "metadata": {},
   "outputs": [
    {
     "data": {
      "application/vnd.plotly.v1+json": {
       "config": {
        "plotlyServerURL": "https://plot.ly"
       },
       "data": [
        {
         "coloraxis": "coloraxis",
         "customdata": {
          "bdata": "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",
          "dtype": "f8",
          "shape": "65, 4"
         },
         "geo": "geo",
         "hovertemplate": "<b>%{hovertext}</b><br><br>gen_id=%{customdata[0]}<br>origin_country_en=%{location}<br>count=%{customdata[1]}<br>share=%{customdata[2]:.2%}<br>Rel. Anteil (p90=1.0)=%{z:.2f}<extra></extra>",
         "hovertext": [
          "Afghanistan",
          "Albania",
          "Austria",
          "Azerbaijan",
          "Belarus",
          "Belgium",
          "Bosnia-Herzegovina",
          "Brazil",
          "Bulgaria",
          "Canada",
          "China",
          "Colombia",
          "Croatia",
          "Czech Republic",
          "Ecuador",
          "Egypt",
          "Eritrea",
          "France",
          "Georgia",
          "Germany",
          "Ghana",
          "Greece",
          "Guinea",
          "Hungary",
          "India",
          "Indonesia",
          "Iran",
          "Iraq",
          "Italy",
          "Jordan",
          "Kazakhstan",
          "Kenya",
          "Kosovo",
          "Kyrgyzstan",
          "Libya",
          "Lithuania",
          "Luxembourg",
          "Malaysia",
          "Montenegro",
          "Morocco",
          "Mozambique",
          "Netherlands",
          "Nigeria",
          "North Macedonia",
          "Pakistan",
          "Poland",
          "Portugal",
          "Romania",
          "Russia",
          "Serbia",
          "Slovakia",
          "Somalia",
          "Spain",
          "Sudan",
          "Sweden",
          "Switzerland",
          "Syria",
          "Thailand",
          "Togo",
          "Turkey",
          "Ukraine",
          "United Kingdom",
          "United States",
          "Uzbekistan",
          "Vietnam"
         ],
         "locationmode": "country names",
         "locations": [
          "Afghanistan",
          "Albania",
          "Austria",
          "Azerbaijan",
          "Belarus",
          "Belgium",
          "Bosnia-Herzegovina",
          "Brazil",
          "Bulgaria",
          "Canada",
          "China",
          "Colombia",
          "Croatia",
          "Czech Republic",
          "Ecuador",
          "Egypt",
          "Eritrea",
          "France",
          "Georgia",
          "Germany",
          "Ghana",
          "Greece",
          "Guinea",
          "Hungary",
          "India",
          "Indonesia",
          "Iran",
          "Iraq",
          "Italy",
          "Jordan",
          "Kazakhstan",
          "Kenya",
          "Kosovo",
          "Kyrgyzstan",
          "Libya",
          "Lithuania",
          "Luxembourg",
          "Malaysia",
          "Montenegro",
          "Morocco",
          "Mozambique",
          "Netherlands",
          "Nigeria",
          "North Macedonia",
          "Pakistan",
          "Poland",
          "Portugal",
          "Romania",
          "Russia",
          "Serbia",
          "Slovakia",
          "Somalia",
          "Spain",
          "Sudan",
          "Sweden",
          "Switzerland",
          "Syria",
          "Thailand",
          "Togo",
          "Turkey",
          "Ukraine",
          "United Kingdom",
          "United States",
          "Uzbekistan",
          "Vietnam"
         ],
         "name": "",
         "type": "choropleth",
         "z": {
          "bdata": "kvBGU+fX3j9bVgyU8EbTP1tWDJTwRtM/kvBGU+fXvj+S8EZT59euP5LwRlPn174/W1YMlPBG0z+S8EZT59euPwAAAAAAAPA/kvBGU+fXrj9uNHV+7SHXP5LwRlPn164/ZMVACW805T9uNHV+7SHHP5LwRlPn174/bjR1fu0hxz9bVgyU8EbTP1tWDJTwRtM/kvBGU+fXrj8AAAAAAADwP5LwRlPn164/iYES3mjq7D+S8EZT59euP5LwRlPn184/gBLeaOr82j+S8EZT59euP5LwRlPn174/bjR1fu0h1z+S8EZT59fuP5LwRlPn164/kvBGU+fXrj+S8EZT59euP4AS3mjq/No/kvBGU+fXrj+S8EZT59euP5LwRlPn164/kvBGU+fXvj+S8EZT59euP5LwRlPn164/kvBGU+fXrj+S8EZT59euP240dX7tIcc/kvBGU+fXvj9uNHV+7SHHP5LwRlPn184/AAAAAAAA8D9uNHV+7SHHPwAAAAAAAPA/W1YMlPBG4z9bVgyU8EbTP5LwRlPn164/bjR1fu0hxz+AEt5o6vzaP5LwRlPn164/bjR1fu0hxz+S8EZT59euPwAAAAAAAPA/bjR1fu0hxz+S8EZT59euPwAAAAAAAPA/AAAAAAAA8D9uNHV+7SHHP1tWDJTwRtM/kvBGU+fXrj+S8EZT59fOPw==",
          "dtype": "f8"
         }
        }
       ],
       "frames": [
        {
         "data": [
          {
           "coloraxis": "coloraxis",
           "customdata": {
            "bdata": "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",
            "dtype": "f8",
            "shape": "65, 4"
           },
           "geo": "geo",
           "hovertemplate": "<b>%{hovertext}</b><br><br>gen_id=%{customdata[0]}<br>origin_country_en=%{location}<br>count=%{customdata[1]}<br>share=%{customdata[2]:.2%}<br>Rel. Anteil (p90=1.0)=%{z:.2f}<extra></extra>",
           "hovertext": [
            "Afghanistan",
            "Albania",
            "Austria",
            "Azerbaijan",
            "Belarus",
            "Belgium",
            "Bosnia-Herzegovina",
            "Brazil",
            "Bulgaria",
            "Canada",
            "China",
            "Colombia",
            "Croatia",
            "Czech Republic",
            "Ecuador",
            "Egypt",
            "Eritrea",
            "France",
            "Georgia",
            "Germany",
            "Ghana",
            "Greece",
            "Guinea",
            "Hungary",
            "India",
            "Indonesia",
            "Iran",
            "Iraq",
            "Italy",
            "Jordan",
            "Kazakhstan",
            "Kenya",
            "Kosovo",
            "Kyrgyzstan",
            "Libya",
            "Lithuania",
            "Luxembourg",
            "Malaysia",
            "Montenegro",
            "Morocco",
            "Mozambique",
            "Netherlands",
            "Nigeria",
            "North Macedonia",
            "Pakistan",
            "Poland",
            "Portugal",
            "Romania",
            "Russia",
            "Serbia",
            "Slovakia",
            "Somalia",
            "Spain",
            "Sudan",
            "Sweden",
            "Switzerland",
            "Syria",
            "Thailand",
            "Togo",
            "Turkey",
            "Ukraine",
            "United Kingdom",
            "United States",
            "Uzbekistan",
            "Vietnam"
           ],
           "locationmode": "country names",
           "locations": [
            "Afghanistan",
            "Albania",
            "Austria",
            "Azerbaijan",
            "Belarus",
            "Belgium",
            "Bosnia-Herzegovina",
            "Brazil",
            "Bulgaria",
            "Canada",
            "China",
            "Colombia",
            "Croatia",
            "Czech Republic",
            "Ecuador",
            "Egypt",
            "Eritrea",
            "France",
            "Georgia",
            "Germany",
            "Ghana",
            "Greece",
            "Guinea",
            "Hungary",
            "India",
            "Indonesia",
            "Iran",
            "Iraq",
            "Italy",
            "Jordan",
            "Kazakhstan",
            "Kenya",
            "Kosovo",
            "Kyrgyzstan",
            "Libya",
            "Lithuania",
            "Luxembourg",
            "Malaysia",
            "Montenegro",
            "Morocco",
            "Mozambique",
            "Netherlands",
            "Nigeria",
            "North Macedonia",
            "Pakistan",
            "Poland",
            "Portugal",
            "Romania",
            "Russia",
            "Serbia",
            "Slovakia",
            "Somalia",
            "Spain",
            "Sudan",
            "Sweden",
            "Switzerland",
            "Syria",
            "Thailand",
            "Togo",
            "Turkey",
            "Ukraine",
            "United Kingdom",
            "United States",
            "Uzbekistan",
            "Vietnam"
           ],
           "name": "",
           "type": "choropleth",
           "z": {
            "bdata": "kvBGU+fX3j9bVgyU8EbTP1tWDJTwRtM/kvBGU+fXvj+S8EZT59euP5LwRlPn174/W1YMlPBG0z+S8EZT59euPwAAAAAAAPA/kvBGU+fXrj9uNHV+7SHXP5LwRlPn164/ZMVACW805T9uNHV+7SHHP5LwRlPn174/bjR1fu0hxz9bVgyU8EbTP1tWDJTwRtM/kvBGU+fXrj8AAAAAAADwP5LwRlPn164/iYES3mjq7D+S8EZT59euP5LwRlPn184/gBLeaOr82j+S8EZT59euP5LwRlPn174/bjR1fu0h1z+S8EZT59fuP5LwRlPn164/kvBGU+fXrj+S8EZT59euP4AS3mjq/No/kvBGU+fXrj+S8EZT59euP5LwRlPn164/kvBGU+fXvj+S8EZT59euP5LwRlPn164/kvBGU+fXrj+S8EZT59euP240dX7tIcc/kvBGU+fXvj9uNHV+7SHHP5LwRlPn184/AAAAAAAA8D9uNHV+7SHHPwAAAAAAAPA/W1YMlPBG4z9bVgyU8EbTP5LwRlPn164/bjR1fu0hxz+AEt5o6vzaP5LwRlPn164/bjR1fu0hxz+S8EZT59euPwAAAAAAAPA/bjR1fu0hxz+S8EZT59euPwAAAAAAAPA/AAAAAAAA8D9uNHV+7SHHP1tWDJTwRtM/kvBGU+fXrj+S8EZT59fOPw==",
            "dtype": "f8"
           }
          }
         ],
         "name": "12"
        },
        {
         "data": [
          {
           "coloraxis": "coloraxis",
           "customdata": {
            "bdata": "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",
            "dtype": "f8",
            "shape": "167, 4"
           },
           "geo": "geo",
           "hovertemplate": "<b>%{hovertext}</b><br><br>gen_id=%{customdata[0]}<br>origin_country_en=%{location}<br>count=%{customdata[1]}<br>share=%{customdata[2]:.2%}<br>Rel. Anteil (p90=1.0)=%{z:.2f}<extra></extra>",
           "hovertext": [
            "Afghanistan",
            "Algeria",
            "Angola",
            "Argentina",
            "Armenia",
            "Australia",
            "Azerbaijan",
            "Bahamas",
            "Bahrain",
            "Bangladesh",
            "Belarus",
            "Belgium",
            "Belize",
            "Benin",
            "Bhutan",
            "Bolivia",
            "Bosnia-Herzegovina",
            "Botswana",
            "Brazil",
            "Brunei",
            "Bulgaria",
            "Burkina Faso",
            "Burundi",
            "Cambodia",
            "Cameroon",
            "Canada",
            "Cape Verde",
            "Central African Republic",
            "Chad",
            "Chile",
            "China",
            "Colombia",
            "Comoros",
            "Costa Rica",
            "Croatia",
            "Cuba",
            "Cyprus",
            "Czech Republic",
            "Democratic Republic of the Congo",
            "Dominican Republic",
            "Ecuador",
            "Egypt",
            "El Salvador",
            "Equatorial Guinea",
            "Eritrea",
            "Estonia",
            "Eswatini",
            "Ethiopia",
            "Federated States of Micronesia",
            "Fiji",
            "Finland",
            "France",
            "Gabon",
            "Gambia",
            "Georgia",
            "Germany",
            "Ghana",
            "Greece",
            "Grenada",
            "Guatemala",
            "Guinea-Bissau",
            "Haiti",
            "Honduras",
            "Hong Kong",
            "Hungary",
            "Iceland",
            "India",
            "Indonesia",
            "Iran",
            "Iraq",
            "Ireland",
            "Israel",
            "Italy",
            "Ivory Coast",
            "Jamaica",
            "Japan",
            "Jordan",
            "Kazakhstan",
            "Kenya",
            "Kiribati",
            "Kosovo",
            "Kuwait",
            "Kyrgyzstan",
            "Laos",
            "Latvia",
            "Lebanon",
            "Liberia",
            "Libya",
            "Luxembourg",
            "Macao",
            "Madagascar",
            "Malawi",
            "Malaysia",
            "Maldives",
            "Mali",
            "Malta",
            "Mauritania",
            "Mexico",
            "Mongolia",
            "Montenegro",
            "Mozambique",
            "Myanmar",
            "Nepal",
            "Netherlands",
            "New Zealand",
            "Nicaragua",
            "Niger",
            "Nigeria",
            "North Korea",
            "North Macedonia",
            "Norway",
            "Oman",
            "Pakistan",
            "Palestinian territories",
            "Panama",
            "Papua New Guinea",
            "Paraguay",
            "Peru",
            "Philippines",
            "Portugal",
            "Qatar",
            "Republic of the Congo",
            "Romania",
            "Russia",
            "Rwanda",
            "Samoa",
            "Sao Tome and Principe",
            "Saudi Arabia",
            "Senegal",
            "Serbia",
            "Seychelles",
            "Sierra Leone",
            "Singapore",
            "Slovakia",
            "Slovenia",
            "Solomon Islands",
            "Somalia",
            "South Africa",
            "South Korea",
            "Spain",
            "Sri Lanka",
            "St. Lucia",
            "St. Vincent and the Grenadines",
            "Sudan",
            "Suriname",
            "Sweden",
            "Switzerland",
            "Syria",
            "Taiwan",
            "Tajikistan",
            "Tanzania",
            "Thailand",
            "Timor-Leste",
            "Togo",
            "Trinidad and Tobago",
            "Tunisia",
            "Uganda",
            "Ukraine",
            "United Arab Emirates",
            "United Kingdom",
            "United States",
            "Uruguay",
            "Uzbekistan",
            "Vanuatu",
            "Venezuela",
            "Yemen",
            "Zimbabwe"
           ],
           "locationmode": "country names",
           "locations": [
            "Afghanistan",
            "Algeria",
            "Angola",
            "Argentina",
            "Armenia",
            "Australia",
            "Azerbaijan",
            "Bahamas",
            "Bahrain",
            "Bangladesh",
            "Belarus",
            "Belgium",
            "Belize",
            "Benin",
            "Bhutan",
            "Bolivia",
            "Bosnia-Herzegovina",
            "Botswana",
            "Brazil",
            "Brunei",
            "Bulgaria",
            "Burkina Faso",
            "Burundi",
            "Cambodia",
            "Cameroon",
            "Canada",
            "Cape Verde",
            "Central African Republic",
            "Chad",
            "Chile",
            "China",
            "Colombia",
            "Comoros",
            "Costa Rica",
            "Croatia",
            "Cuba",
            "Cyprus",
            "Czech Republic",
            "Democratic Republic of the Congo",
            "Dominican Republic",
            "Ecuador",
            "Egypt",
            "El Salvador",
            "Equatorial Guinea",
            "Eritrea",
            "Estonia",
            "Eswatini",
            "Ethiopia",
            "Federated States of Micronesia",
            "Fiji",
            "Finland",
            "France",
            "Gabon",
            "Gambia",
            "Georgia",
            "Germany",
            "Ghana",
            "Greece",
            "Grenada",
            "Guatemala",
            "Guinea-Bissau",
            "Haiti",
            "Honduras",
            "Hong Kong",
            "Hungary",
            "Iceland",
            "India",
            "Indonesia",
            "Iran",
            "Iraq",
            "Ireland",
            "Israel",
            "Italy",
            "Ivory Coast",
            "Jamaica",
            "Japan",
            "Jordan",
            "Kazakhstan",
            "Kenya",
            "Kiribati",
            "Kosovo",
            "Kuwait",
            "Kyrgyzstan",
            "Laos",
            "Latvia",
            "Lebanon",
            "Liberia",
            "Libya",
            "Luxembourg",
            "Macao",
            "Madagascar",
            "Malawi",
            "Malaysia",
            "Maldives",
            "Mali",
            "Malta",
            "Mauritania",
            "Mexico",
            "Mongolia",
            "Montenegro",
            "Mozambique",
            "Myanmar",
            "Nepal",
            "Netherlands",
            "New Zealand",
            "Nicaragua",
            "Niger",
            "Nigeria",
            "North Korea",
            "North Macedonia",
            "Norway",
            "Oman",
            "Pakistan",
            "Palestinian territories",
            "Panama",
            "Papua New Guinea",
            "Paraguay",
            "Peru",
            "Philippines",
            "Portugal",
            "Qatar",
            "Republic of the Congo",
            "Romania",
            "Russia",
            "Rwanda",
            "Samoa",
            "Sao Tome and Principe",
            "Saudi Arabia",
            "Senegal",
            "Serbia",
            "Seychelles",
            "Sierra Leone",
            "Singapore",
            "Slovakia",
            "Slovenia",
            "Solomon Islands",
            "Somalia",
            "South Africa",
            "South Korea",
            "Spain",
            "Sri Lanka",
            "St. Lucia",
            "St. Vincent and the Grenadines",
            "Sudan",
            "Suriname",
            "Sweden",
            "Switzerland",
            "Syria",
            "Taiwan",
            "Tajikistan",
            "Tanzania",
            "Thailand",
            "Timor-Leste",
            "Togo",
            "Trinidad and Tobago",
            "Tunisia",
            "Uganda",
            "Ukraine",
            "United Arab Emirates",
            "United Kingdom",
            "United States",
            "Uruguay",
            "Uzbekistan",
            "Vanuatu",
            "Venezuela",
            "Yemen",
            "Zimbabwe"
           ],
           "name": "",
           "type": "choropleth",
           "z": {
            "bdata": "mpmZmZmZ2T+amZmZmZnJP5qZmZmZmdk/mpmZmZmZ2T+amZmZmZnZP5qZmZmZmck/mpmZmZmZ2T+amZmZmZnpPzMzMzMzM+M/MzMzMzMz4z+amZmZmZnJPwAAAAAAAPA/MzMzMzMz4z+amZmZmZnJP5qZmZmZmck/MzMzMzMz4z8AAAAAAADwP5qZmZmZmck/mpmZmZmZ6T+amZmZmZnZPzMzMzMzM+M/mpmZmZmZyT+amZmZmZnJP5qZmZmZmek/MzMzMzMz4z8zMzMzMzPjPzMzMzMzM+M/mpmZmZmZyT8zMzMzMzPjPzMzMzMzM+M/mpmZmZmZ6T+amZmZmZnpPzMzMzMzM+M/mpmZmZmZyT+amZmZmZnJP5qZmZmZmdk/mpmZmZmZyT8AAAAAAADwP5qZmZmZmdk/mpmZmZmZ2T8AAAAAAADwPzMzMzMzM+M/mpmZmZmZ2T8zMzMzMzPjP5qZmZmZmck/mpmZmZmZ6T8AAAAAAADwP5qZmZmZmck/mpmZmZmZ2T+amZmZmZnJPzMzMzMzM+M/mpmZmZmZyT+amZmZmZnZP5qZmZmZmdk/mpmZmZmZ2T8AAAAAAADwPzMzMzMzM+M/mpmZmZmZyT+amZmZmZnJP5qZmZmZmek/AAAAAAAA8D+amZmZmZnpP5qZmZmZmdk/mpmZmZmZ2T8zMzMzMzPjP5qZmZmZmdk/MzMzMzMz4z8zMzMzMzPjP5qZmZmZmek/mpmZmZmZ2T+amZmZmZnpP5qZmZmZmek/MzMzMzMz4z8zMzMzMzPjP5qZmZmZmdk/MzMzMzMz4z+amZmZmZnZP5qZmZmZmek/mpmZmZmZyT8AAAAAAADwPwAAAAAAAPA/mpmZmZmZ6T+amZmZmZnJP5qZmZmZmck/mpmZmZmZ2T8AAAAAAADwP5qZmZmZmek/mpmZmZmZ2T8AAAAAAADwP5qZmZmZmek/MzMzMzMz4z+amZmZmZnpP5qZmZmZmdk/mpmZmZmZyT8zMzMzMzPjPzMzMzMzM+M/mpmZmZmZ2T8zMzMzMzPjP5qZmZmZmek/AAAAAAAA8D+amZmZmZnpP5qZmZmZmck/mpmZmZmZyT+amZmZmZnZP5qZmZmZmck/AAAAAAAA8D+amZmZmZnpPzMzMzMzM+M/mpmZmZmZyT+amZmZmZnpP5qZmZmZmck/mpmZmZmZ2T+amZmZmZnpP5qZmZmZmdk/mpmZmZmZ2T+amZmZmZnZP5qZmZmZmek/MzMzMzMz4z+amZmZmZnJP5qZmZmZmck/mpmZmZmZyT8AAAAAAADwPwAAAAAAAPA/mpmZmZmZ2T+amZmZmZnJPwAAAAAAAPA/MzMzMzMz4z+amZmZmZnpP5qZmZmZmdk/mpmZmZmZ6T+amZmZmZnpPwAAAAAAAPA/mpmZmZmZ6T+amZmZmZnJP5qZmZmZmek/AAAAAAAA8D+amZmZmZnJP5qZmZmZmdk/mpmZmZmZyT8zMzMzMzPjPzMzMzMzM+M/MzMzMzMz4z8AAAAAAADwP5qZmZmZmdk/AAAAAAAA8D8zMzMzMzPjP5qZmZmZmdk/mpmZmZmZ6T8zMzMzMzPjPzMzMzMzM+M/mpmZmZmZ2T8AAAAAAADwP5qZmZmZmdk/AAAAAAAA8D8zMzMzMzPjP5qZmZmZmdk/mpmZmZmZyT8zMzMzMzPjP5qZmZmZmek/mpmZmZmZ2T8zMzMzMzPjPzMzMzMzM+M/mpmZmZmZ2T+amZmZmZnJPwAAAAAAAPA/mpmZmZmZ2T+amZmZmZnpPw==",
            "dtype": "f8"
           }
          }
         ],
         "name": "13"
        },
        {
         "data": [
          {
           "coloraxis": "coloraxis",
           "customdata": {
            "bdata": "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",
            "dtype": "f8",
            "shape": "92, 4"
           },
           "geo": "geo",
           "hovertemplate": "<b>%{hovertext}</b><br><br>gen_id=%{customdata[0]}<br>origin_country_en=%{location}<br>count=%{customdata[1]}<br>share=%{customdata[2]:.2%}<br>Rel. Anteil (p90=1.0)=%{z:.2f}<extra></extra>",
           "hovertext": [
            "Afghanistan",
            "Albania",
            "Algeria",
            "Angola",
            "Armenia",
            "Australia",
            "Austria",
            "Azerbaijan",
            "Belarus",
            "Belgium",
            "Bosnia-Herzegovina",
            "Brazil",
            "Bulgaria",
            "Burundi",
            "Cameroon",
            "Canada",
            "Chile",
            "China",
            "Colombia",
            "Croatia",
            "Cuba",
            "Czech Republic",
            "Denmark",
            "Djibouti",
            "Dominican Republic",
            "Egypt",
            "Eritrea",
            "Finland",
            "France",
            "Gabon",
            "Gambia",
            "Georgia",
            "Ghana",
            "Greece",
            "Guinea",
            "Honduras",
            "Hungary",
            "India",
            "Indonesia",
            "Iran",
            "Iraq",
            "Ireland",
            "Israel",
            "Italy",
            "Ivory Coast",
            "Japan",
            "Kazakhstan",
            "Kenya",
            "Kosovo",
            "Latvia",
            "Lebanon",
            "Liberia",
            "Libya",
            "Lithuania",
            "Luxembourg",
            "Mali",
            "Mauritius",
            "Mexico",
            "Moldova",
            "Montenegro",
            "Morocco",
            "Netherlands",
            "Nigeria",
            "North Macedonia",
            "Pakistan",
            "Peru",
            "Philippines",
            "Poland",
            "Portugal",
            "Romania",
            "Russia",
            "Serbia",
            "Slovakia",
            "Somalia",
            "South Korea",
            "Spain",
            "Sri Lanka",
            "Sweden",
            "Switzerland",
            "Syria",
            "Taiwan",
            "Thailand",
            "Togo",
            "Turkey",
            "Ukraine",
            "United Kingdom",
            "United States",
            "Uzbekistan",
            "Venezuela",
            "Vietnam",
            "Yemen",
            "Zimbabwe"
           ],
           "locationmode": "country names",
           "locations": [
            "Afghanistan",
            "Albania",
            "Algeria",
            "Angola",
            "Armenia",
            "Australia",
            "Austria",
            "Azerbaijan",
            "Belarus",
            "Belgium",
            "Bosnia-Herzegovina",
            "Brazil",
            "Bulgaria",
            "Burundi",
            "Cameroon",
            "Canada",
            "Chile",
            "China",
            "Colombia",
            "Croatia",
            "Cuba",
            "Czech Republic",
            "Denmark",
            "Djibouti",
            "Dominican Republic",
            "Egypt",
            "Eritrea",
            "Finland",
            "France",
            "Gabon",
            "Gambia",
            "Georgia",
            "Ghana",
            "Greece",
            "Guinea",
            "Honduras",
            "Hungary",
            "India",
            "Indonesia",
            "Iran",
            "Iraq",
            "Ireland",
            "Israel",
            "Italy",
            "Ivory Coast",
            "Japan",
            "Kazakhstan",
            "Kenya",
            "Kosovo",
            "Latvia",
            "Lebanon",
            "Liberia",
            "Libya",
            "Lithuania",
            "Luxembourg",
            "Mali",
            "Mauritius",
            "Mexico",
            "Moldova",
            "Montenegro",
            "Morocco",
            "Netherlands",
            "Nigeria",
            "North Macedonia",
            "Pakistan",
            "Peru",
            "Philippines",
            "Poland",
            "Portugal",
            "Romania",
            "Russia",
            "Serbia",
            "Slovakia",
            "Somalia",
            "South Korea",
            "Spain",
            "Sri Lanka",
            "Sweden",
            "Switzerland",
            "Syria",
            "Taiwan",
            "Thailand",
            "Togo",
            "Turkey",
            "Ukraine",
            "United Kingdom",
            "United States",
            "Uzbekistan",
            "Venezuela",
            "Vietnam",
            "Yemen",
            "Zimbabwe"
           ],
           "name": "",
           "type": "choropleth",
           "z": {
            "bdata": "AAAAAAAA8D8Rf5EzLLjUP54b8/TRarI/nhvz9NFqoj9tqWzvOqC7P54b8/TRaqI/nhvz9NFqwj9tqWzvOqC7P54b8/TRaqI/nhvz9NFqwj9YTUIUf5HjP4biL3KGBcc/AAAAAAAA8D+eG/P00WqiP54b8/TRarI/nhvz9NFqsj+eG/P00WqyP+Tpo9UkROE/bals7zqguz8AAAAAAADwP54b8/TRaqI/nhvz9NFqwj+eG/P00WqyP54b8/TRaqI/nhvz9NFqoj+eG/P00WrCP4biL3KGBcc/nhvz9NFqoj8Rf5EzLLjUP54b8/TRaqI/nhvz9NFqwj9tqWzvOqC7P4biL3KGBcc/4AwLLpXt7T9tqWzvOqC7P54b8/TRaqI/y7DgUtne5T8AAAAAAADwP54b8/TRarI/huIvcoYF1z+eG/P00WriP54b8/TRaqI/nhvz9NFqsj8AAAAAAADwP54b8/TRaqI/bals7zqguz+eG/P00WrCP54b8/TRarI/WE1CFH+R4z+eG/P00WqiP22pbO86oLs/nhvz9NFqoj+eG/P00WqiP54b8/TRasI/bals7zqguz+eG/P00WqiP54b8/TRaqI/nhvz9NFqoj+eG/P00WqyP54b8/TRasI/huIvcoYF1z9tqWzvOqDbP54b8/TRasI/KrhUtncd4D+G4i9yhgXHP54b8/TRaqI/KrhUtncd0D8AAAAAAADwP/lFzrDgUtk/AAAAAAAA8D+G4i9yhgXnP0AUf5EzLOg/nhvz9NFqwj+eG/P00WrCP22pbO86oMs/+UXOsOBS2T9tqWzvOqC7P54b8/TRasI/bals7zqguz8AAAAAAADwP54b8/TRaqI/bals7zqgyz+eG/P00WqiPwAAAAAAAPA/AAAAAAAA8D8quFS2dx3QP54b8/TRatI/nhvz9NFqwj+eG/P00WqyP54b8/TRatI/nhvz9NFqoj+eG/P00WqiPw==",
            "dtype": "f8"
           }
          }
         ],
         "name": "14"
        },
        {
         "data": [
          {
           "coloraxis": "coloraxis",
           "customdata": {
            "bdata": "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",
            "dtype": "f8",
            "shape": "97, 4"
           },
           "geo": "geo",
           "hovertemplate": "<b>%{hovertext}</b><br><br>gen_id=%{customdata[0]}<br>origin_country_en=%{location}<br>count=%{customdata[1]}<br>share=%{customdata[2]:.2%}<br>Rel. Anteil (p90=1.0)=%{z:.2f}<extra></extra>",
           "hovertext": [
            "Afghanistan",
            "Albania",
            "Algeria",
            "Argentina",
            "Armenia",
            "Australia",
            "Austria",
            "Azerbaijan",
            "Bangladesh",
            "Belarus",
            "Belgium",
            "Bosnia-Herzegovina",
            "Brazil",
            "Bulgaria",
            "Cameroon",
            "Chile",
            "China",
            "Colombia",
            "Costa Rica",
            "Croatia",
            "Cyprus",
            "Czech Republic",
            "Democratic Republic of the Congo",
            "Denmark",
            "Egypt",
            "Eritrea",
            "Ethiopia",
            "Finland",
            "France",
            "Gambia",
            "Georgia",
            "Ghana",
            "Greece",
            "Guatemala",
            "Guinea",
            "Honduras",
            "Hungary",
            "India",
            "Indonesia",
            "Iran",
            "Iraq",
            "Ireland",
            "Israel",
            "Italy",
            "Ivory Coast",
            "Japan",
            "Jordan",
            "Kazakhstan",
            "Kenya",
            "Kosovo",
            "Latvia",
            "Lebanon",
            "Libya",
            "Lithuania",
            "Luxembourg",
            "Madagascar",
            "Malaysia",
            "Mali",
            "Mexico",
            "Moldova",
            "Montenegro",
            "Morocco",
            "Mozambique",
            "Nepal",
            "Netherlands",
            "Nigeria",
            "North Macedonia",
            "Pakistan",
            "Peru",
            "Philippines",
            "Poland",
            "Portugal",
            "Romania",
            "Russia",
            "Serbia",
            "Slovakia",
            "Slovenia",
            "Somalia",
            "South Africa",
            "South Korea",
            "Spain",
            "Sri Lanka",
            "Sudan",
            "Sweden",
            "Switzerland",
            "Syria",
            "Tajikistan",
            "Thailand",
            "Tunisia",
            "Turkey",
            "Uganda",
            "Ukraine",
            "United Arab Emirates",
            "United Kingdom",
            "United States",
            "Vietnam",
            "Yemen"
           ],
           "locationmode": "country names",
           "locations": [
            "Afghanistan",
            "Albania",
            "Algeria",
            "Argentina",
            "Armenia",
            "Australia",
            "Austria",
            "Azerbaijan",
            "Bangladesh",
            "Belarus",
            "Belgium",
            "Bosnia-Herzegovina",
            "Brazil",
            "Bulgaria",
            "Cameroon",
            "Chile",
            "China",
            "Colombia",
            "Costa Rica",
            "Croatia",
            "Cyprus",
            "Czech Republic",
            "Democratic Republic of the Congo",
            "Denmark",
            "Egypt",
            "Eritrea",
            "Ethiopia",
            "Finland",
            "France",
            "Gambia",
            "Georgia",
            "Ghana",
            "Greece",
            "Guatemala",
            "Guinea",
            "Honduras",
            "Hungary",
            "India",
            "Indonesia",
            "Iran",
            "Iraq",
            "Ireland",
            "Israel",
            "Italy",
            "Ivory Coast",
            "Japan",
            "Jordan",
            "Kazakhstan",
            "Kenya",
            "Kosovo",
            "Latvia",
            "Lebanon",
            "Libya",
            "Lithuania",
            "Luxembourg",
            "Madagascar",
            "Malaysia",
            "Mali",
            "Mexico",
            "Moldova",
            "Montenegro",
            "Morocco",
            "Mozambique",
            "Nepal",
            "Netherlands",
            "Nigeria",
            "North Macedonia",
            "Pakistan",
            "Peru",
            "Philippines",
            "Poland",
            "Portugal",
            "Romania",
            "Russia",
            "Serbia",
            "Slovakia",
            "Slovenia",
            "Somalia",
            "South Africa",
            "South Korea",
            "Spain",
            "Sri Lanka",
            "Sudan",
            "Sweden",
            "Switzerland",
            "Syria",
            "Tajikistan",
            "Thailand",
            "Tunisia",
            "Turkey",
            "Uganda",
            "Ukraine",
            "United Arab Emirates",
            "United Kingdom",
            "United States",
            "Vietnam",
            "Yemen"
           ],
           "name": "",
           "type": "choropleth",
           "z": {
            "bdata": "AAAAAAAA8D+RmZmZmZnJP3QUrkfherQ/dBSuR+F6tD+RmZmZmZnJP3QUrkfheqQ/kZmZmZmZ6T+uHoXrUbjOP3QUrkfherQ/dBSuR+F6pD90FK5H4XqkP3QUrkfheuQ/kZmZmZmZyT8AAAAAAADwP3QUrkfherQ/dBSuR+F6pD+RmZmZmZnZP64ehetRuL4/dBSuR+F6pD8AAAAAAADwP3QUrkfheqQ/rh6F61G4zj90FK5H4XqkP3QUrkfheqQ/rh6F61G4vj90FK5H4XqkP64ehetRuL4/dBSuR+F6pD90FK5H4XrEP3QUrkfheqQ/rh6F61G4zj90FK5H4XqkPwAAAAAAAPA/dBSuR+F6tD90FK5H4Xq0P3QUrkfheqQ/vPUoXI/C5T9nPQrXo3DtP+ZRuB6F69E/rh6F61G43j8fXI/C9SjsP3QUrkfheqQ/dBSuR+F6pD8AAAAAAADwP3QUrkfherQ/rh6F61G4vj90FK5H4Xq0P3QUrkfherQ/dBSuR+F6pD8fXI/C9SjsP3QUrkfhesQ/kZmZmZmZyT90FK5H4XqkP64ehetRuL4/dBSuR+F6xD90FK5H4XqkP3QUrkfheqQ/dBSuR+F6pD90FK5H4XqkP3QUrkfherQ/dBSuR+F6tD+uHoXrUbjOP3QUrkfheqQ/dBSuR+F6tD8tMzMzMzPjP3QUrkfherQ/dBSuR+F61D/mUbgehevRP3QUrkfheqQ/rh6F61G4vj8AAAAAAADwP+ZRuB6F6+E/AAAAAAAA8D8tMzMzMzPjP5GZmZmZmek/rh6F61G4vj90FK5H4XqkP+ZRuB6F69E/dBSuR+F6tD+uHoXrUbi+P55wPQrXo+A/dBSuR+F6pD90FK5H4XqkP3QUrkfheqQ/dBSuR+F6tD8AAAAAAADwP3QUrkfherQ/dBSuR+F6pD8fXI/C9SjcPwAAAAAAAPA/dBSuR+F6pD8AAAAAAADwP3QUrkfheqQ/rh6F61G4zj/mUbgehevRPx9cj8L1KNw/dBSuR+F6pD8=",
            "dtype": "f8"
           }
          }
         ],
         "name": "15"
        },
        {
         "data": [
          {
           "coloraxis": "coloraxis",
           "customdata": {
            "bdata": "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",
            "dtype": "f8",
            "shape": "129, 4"
           },
           "geo": "geo",
           "hovertemplate": "<b>%{hovertext}</b><br><br>gen_id=%{customdata[0]}<br>origin_country_en=%{location}<br>count=%{customdata[1]}<br>share=%{customdata[2]:.2%}<br>Rel. Anteil (p90=1.0)=%{z:.2f}<extra></extra>",
           "hovertext": [
            "Afghanistan",
            "Albania",
            "Algeria",
            "Armenia",
            "Australia",
            "Austria",
            "Azerbaijan",
            "Bahrain",
            "Bangladesh",
            "Belarus",
            "Belgium",
            "Benin",
            "Bosnia-Herzegovina",
            "Botswana",
            "Brazil",
            "Bulgaria",
            "Burundi",
            "Cambodia",
            "Cameroon",
            "Canada",
            "Chad",
            "Chile",
            "China",
            "Colombia",
            "Comoros",
            "Croatia",
            "Cuba",
            "Czech Republic",
            "Denmark",
            "Djibouti",
            "Dominican Republic",
            "Ecuador",
            "Egypt",
            "Equatorial Guinea",
            "Eritrea",
            "Estonia",
            "Ethiopia",
            "Finland",
            "France",
            "Gambia",
            "Georgia",
            "Germany",
            "Greece",
            "Guinea",
            "Honduras",
            "Hong Kong",
            "Hungary",
            "Iceland",
            "India",
            "Indonesia",
            "Iran",
            "Iraq",
            "Ireland",
            "Italy",
            "Ivory Coast",
            "Japan",
            "Jordan",
            "Kazakhstan",
            "Kenya",
            "Kosovo",
            "Kuwait",
            "Kyrgyzstan",
            "Latvia",
            "Lebanon",
            "Liberia",
            "Libya",
            "Lithuania",
            "Luxembourg",
            "Madagascar",
            "Malaysia",
            "Malta",
            "Mauritania",
            "Mexico",
            "Moldova",
            "Mongolia",
            "Montenegro",
            "Morocco",
            "Mozambique",
            "Netherlands",
            "New Zealand",
            "Nicaragua",
            "Nigeria",
            "North Macedonia",
            "Norway",
            "Oman",
            "Pakistan",
            "Palestinian territories",
            "Peru",
            "Philippines",
            "Poland",
            "Portugal",
            "Romania",
            "Russia",
            "Rwanda",
            "Saudi Arabia",
            "Senegal",
            "Serbia",
            "Seychelles",
            "Sierra Leone",
            "Slovakia",
            "Slovenia",
            "Somalia",
            "South Korea",
            "Spain",
            "Sri Lanka",
            "Sudan",
            "Suriname",
            "Sweden",
            "Switzerland",
            "Syria",
            "Taiwan",
            "Tajikistan",
            "Tanzania",
            "Thailand",
            "Togo",
            "Trinidad and Tobago",
            "Tunisia",
            "Turkey",
            "Turkmenistan",
            "Uganda",
            "Ukraine",
            "United Kingdom",
            "United States",
            "Uruguay",
            "Uzbekistan",
            "Venezuela",
            "Vietnam",
            "Yemen",
            "Zimbabwe"
           ],
           "locationmode": "country names",
           "locations": [
            "Afghanistan",
            "Albania",
            "Algeria",
            "Armenia",
            "Australia",
            "Austria",
            "Azerbaijan",
            "Bahrain",
            "Bangladesh",
            "Belarus",
            "Belgium",
            "Benin",
            "Bosnia-Herzegovina",
            "Botswana",
            "Brazil",
            "Bulgaria",
            "Burundi",
            "Cambodia",
            "Cameroon",
            "Canada",
            "Chad",
            "Chile",
            "China",
            "Colombia",
            "Comoros",
            "Croatia",
            "Cuba",
            "Czech Republic",
            "Denmark",
            "Djibouti",
            "Dominican Republic",
            "Ecuador",
            "Egypt",
            "Equatorial Guinea",
            "Eritrea",
            "Estonia",
            "Ethiopia",
            "Finland",
            "France",
            "Gambia",
            "Georgia",
            "Germany",
            "Greece",
            "Guinea",
            "Honduras",
            "Hong Kong",
            "Hungary",
            "Iceland",
            "India",
            "Indonesia",
            "Iran",
            "Iraq",
            "Ireland",
            "Italy",
            "Ivory Coast",
            "Japan",
            "Jordan",
            "Kazakhstan",
            "Kenya",
            "Kosovo",
            "Kuwait",
            "Kyrgyzstan",
            "Latvia",
            "Lebanon",
            "Liberia",
            "Libya",
            "Lithuania",
            "Luxembourg",
            "Madagascar",
            "Malaysia",
            "Malta",
            "Mauritania",
            "Mexico",
            "Moldova",
            "Mongolia",
            "Montenegro",
            "Morocco",
            "Mozambique",
            "Netherlands",
            "New Zealand",
            "Nicaragua",
            "Nigeria",
            "North Macedonia",
            "Norway",
            "Oman",
            "Pakistan",
            "Palestinian territories",
            "Peru",
            "Philippines",
            "Poland",
            "Portugal",
            "Romania",
            "Russia",
            "Rwanda",
            "Saudi Arabia",
            "Senegal",
            "Serbia",
            "Seychelles",
            "Sierra Leone",
            "Slovakia",
            "Slovenia",
            "Somalia",
            "South Korea",
            "Spain",
            "Sri Lanka",
            "Sudan",
            "Suriname",
            "Sweden",
            "Switzerland",
            "Syria",
            "Taiwan",
            "Tajikistan",
            "Tanzania",
            "Thailand",
            "Togo",
            "Trinidad and Tobago",
            "Tunisia",
            "Turkey",
            "Turkmenistan",
            "Uganda",
            "Ukraine",
            "United Kingdom",
            "United States",
            "Uruguay",
            "Uzbekistan",
            "Venezuela",
            "Vietnam",
            "Yemen",
            "Zimbabwe"
           ],
           "name": "",
           "type": "choropleth",
           "z": {
            "bdata": "AAAAAAAA8D9WVVVVVVXVP1ZVVVVVVdU/HcdxHMdxzD9WVVVVVVXVPx3HcRzHcdw/VlVVVVVV1T8dx3Ecx3G8Px3HcRzHcbw/HcdxHMdxzD9yHMdxHMfhPx3HcRzHcbw/HcdxHMdx3D8dx3Ecx3G8Px3HcRzHcdw/AAAAAAAA8D8dx3Ecx3HMPx3HcRzHcbw/HcdxHMdxvD8dx3Ecx3HMPx3HcRzHcbw/VlVVVVVV1T9yHMdxHMfhPx3HcRzHccw/HcdxHMdxvD8AAAAAAADwPx3HcRzHccw/chzHcRzH4T8dx3Ecx3G8Px3HcRzHcbw/HcdxHMdxzD8dx3Ecx3HcP1ZVVVVVVdU/HcdxHMdxvD9WVVVVVVXlPx3HcRzHccw/HcdxHMdxzD9WVVVVVVXVPx3HcRzHcdw/HcdxHMdxvD9WVVVVVVXVPwAAAAAAAPA/AAAAAAAA8D8dx3Ecx3G8Px3HcRzHccw/HcdxHMdxvD8dx3Ecx3HcPx3HcRzHcbw/AAAAAAAA8D9WVVVVVVXVP3Icx3Ecx+E/AAAAAAAA8D9WVVVVVVXVPwAAAAAAAPA/VlVVVVVV1T8dx3Ecx3HMPx3HcRzHccw/chzHcRzH4T8dx3Ecx3HcP1ZVVVVVVeU/HcdxHMdxvD8dx3Ecx3G8P1ZVVVVVVdU/HcdxHMdxvD8dx3Ecx3HMP1ZVVVVVVdU/HcdxHMdx3D8dx3Ecx3HMPx3HcRzHccw/HcdxHMdxvD8dx3Ecx3G8Px3HcRzHccw/HcdxHMdxzD9WVVVVVVXVPx3HcRzHcbw/VlVVVVVV1T8dx3Ecx3HcPx3HcRzHccw/Oo7jOI7j6D8dx3Ecx3G8Px3HcRzHcbw/VlVVVVVV5T9yHMdxHMfhPx3HcRzHcbw/HcdxHMdxzD9WVVVVVVXlP1ZVVVVVVdU/VlVVVVVV1T8dx3Ecx3HcPwAAAAAAAPA/HcdxHMdx3D8AAAAAAADwPx3HcRzHcew/HcdxHMdxzD8dx3Ecx3G8Px3HcRzHccw/chzHcRzH4T8dx3Ecx3G8Px3HcRzHccw/HcdxHMdx3D8dx3Ecx3G8Px3HcRzHcdw/HcdxHMdxvD8dx3Ecx3HsP1ZVVVVVVdU/HcdxHMdxzD8dx3Ecx3G8Px3HcRzHcdw/HcdxHMdxvD8AAAAAAADwPx3HcRzHccw/HcdxHMdx3D8dx3Ecx3G8Px3HcRzHcbw/HcdxHMdx3D8dx3Ecx3G8Px3HcRzHcdw/AAAAAAAA8D8dx3Ecx3G8Px3HcRzHccw/AAAAAAAA8D8dx3Ecx3HcPx3HcRzHcew/HcdxHMdxvD8dx3Ecx3G8Px3HcRzHccw/AAAAAAAA8D8dx3Ecx3HMPx3HcRzHcbw/",
            "dtype": "f8"
           }
          }
         ],
         "name": "16"
        }
       ],
       "layout": {
        "annotations": [
         {
          "font": {
           "color": "#555",
           "size": 9
          },
          "showarrow": false,
          "text": "Skalierung pro gen_id: 1.0 ≈ 90. Perzentil",
          "x": 0.01,
          "xref": "paper",
          "y": 0.01,
          "yref": "paper"
         }
        ],
        "coloraxis": {
         "cmax": 1,
         "cmin": 0,
         "colorbar": {
          "tickformat": ".2f",
          "title": {
           "text": "Rel. Anteil (p90=1.0)"
          }
         },
         "colorscale": [
          [
           0,
           "rgb(247,251,255)"
          ],
          [
           0.125,
           "rgb(222,235,247)"
          ],
          [
           0.25,
           "rgb(198,219,239)"
          ],
          [
           0.375,
           "rgb(158,202,225)"
          ],
          [
           0.5,
           "rgb(107,174,214)"
          ],
          [
           0.625,
           "rgb(66,146,198)"
          ],
          [
           0.75,
           "rgb(33,113,181)"
          ],
          [
           0.875,
           "rgb(8,81,156)"
          ],
          [
           1,
           "rgb(8,48,107)"
          ]
         ]
        },
        "geo": {
         "center": {},
         "domain": {
          "x": [
           0,
           1
          ],
          "y": [
           0,
           1
          ]
         },
         "projection": {
          "type": "natural earth"
         },
         "scope": "world"
        },
        "legend": {
         "tracegroupgap": 0
        },
        "margin": {
         "t": 60
        },
        "sliders": [
         {
          "active": 0,
          "currentvalue": {
           "prefix": "gen_id="
          },
          "len": 0.9,
          "pad": {
           "b": 10,
           "t": 60
          },
          "steps": [
           {
            "args": [
             [
              "12"
             ],
             {
              "frame": {
               "duration": 0,
               "redraw": true
              },
              "fromcurrent": true,
              "mode": "immediate",
              "transition": {
               "duration": 0,
               "easing": "linear"
              }
             }
            ],
            "label": "12",
            "method": "animate"
           },
           {
            "args": [
             [
              "13"
             ],
             {
              "frame": {
               "duration": 0,
               "redraw": true
              },
              "fromcurrent": true,
              "mode": "immediate",
              "transition": {
               "duration": 0,
               "easing": "linear"
              }
             }
            ],
            "label": "13",
            "method": "animate"
           },
           {
            "args": [
             [
              "14"
             ],
             {
              "frame": {
               "duration": 0,
               "redraw": true
              },
              "fromcurrent": true,
              "mode": "immediate",
              "transition": {
               "duration": 0,
               "easing": "linear"
              }
             }
            ],
            "label": "14",
            "method": "animate"
           },
           {
            "args": [
             [
              "15"
             ],
             {
              "frame": {
               "duration": 0,
               "redraw": true
              },
              "fromcurrent": true,
              "mode": "immediate",
              "transition": {
               "duration": 0,
               "easing": "linear"
              }
             }
            ],
            "label": "15",
            "method": "animate"
           },
           {
            "args": [
             [
              "16"
             ],
             {
              "frame": {
               "duration": 0,
               "redraw": true
              },
              "fromcurrent": true,
              "mode": "immediate",
              "transition": {
               "duration": 0,
               "easing": "linear"
              }
             }
            ],
            "label": "16",
            "method": "animate"
           }
          ],
          "x": 0.1,
          "xanchor": "left",
          "y": 0,
          "yanchor": "top"
         }
        ],
        "template": {
         "data": {
          "bar": [
           {
            "error_x": {
             "color": "#2a3f5f"
            },
            "error_y": {
             "color": "#2a3f5f"
            },
            "marker": {
             "line": {
              "color": "#E5ECF6",
              "width": 0.5
             },
             "pattern": {
              "fillmode": "overlay",
              "size": 10,
              "solidity": 0.2
             }
            },
            "type": "bar"
           }
          ],
          "barpolar": [
           {
            "marker": {
             "line": {
              "color": "#E5ECF6",
              "width": 0.5
             },
             "pattern": {
              "fillmode": "overlay",
              "size": 10,
              "solidity": 0.2
             }
            },
            "type": "barpolar"
           }
          ],
          "carpet": [
           {
            "aaxis": {
             "endlinecolor": "#2a3f5f",
             "gridcolor": "white",
             "linecolor": "white",
             "minorgridcolor": "white",
             "startlinecolor": "#2a3f5f"
            },
            "baxis": {
             "endlinecolor": "#2a3f5f",
             "gridcolor": "white",
             "linecolor": "white",
             "minorgridcolor": "white",
             "startlinecolor": "#2a3f5f"
            },
            "type": "carpet"
           }
          ],
          "choropleth": [
           {
            "colorbar": {
             "outlinewidth": 0,
             "ticks": ""
            },
            "type": "choropleth"
           }
          ],
          "contour": [
           {
            "colorbar": {
             "outlinewidth": 0,
             "ticks": ""
            },
            "colorscale": [
             [
              0,
              "#0d0887"
             ],
             [
              0.1111111111111111,
              "#46039f"
             ],
             [
              0.2222222222222222,
              "#7201a8"
             ],
             [
              0.3333333333333333,
              "#9c179e"
             ],
             [
              0.4444444444444444,
              "#bd3786"
             ],
             [
              0.5555555555555556,
              "#d8576b"
             ],
             [
              0.6666666666666666,
              "#ed7953"
             ],
             [
              0.7777777777777778,
              "#fb9f3a"
             ],
             [
              0.8888888888888888,
              "#fdca26"
             ],
             [
              1,
              "#f0f921"
             ]
            ],
            "type": "contour"
           }
          ],
          "contourcarpet": [
           {
            "colorbar": {
             "outlinewidth": 0,
             "ticks": ""
            },
            "type": "contourcarpet"
           }
          ],
          "heatmap": [
           {
            "colorbar": {
             "outlinewidth": 0,
             "ticks": ""
            },
            "colorscale": [
             [
              0,
              "#0d0887"
             ],
             [
              0.1111111111111111,
              "#46039f"
             ],
             [
              0.2222222222222222,
              "#7201a8"
             ],
             [
              0.3333333333333333,
              "#9c179e"
             ],
             [
              0.4444444444444444,
              "#bd3786"
             ],
             [
              0.5555555555555556,
              "#d8576b"
             ],
             [
              0.6666666666666666,
              "#ed7953"
             ],
             [
              0.7777777777777778,
              "#fb9f3a"
             ],
             [
              0.8888888888888888,
              "#fdca26"
             ],
             [
              1,
              "#f0f921"
             ]
            ],
            "type": "heatmap"
           }
          ],
          "histogram": [
           {
            "marker": {
             "pattern": {
              "fillmode": "overlay",
              "size": 10,
              "solidity": 0.2
             }
            },
            "type": "histogram"
           }
          ],
          "histogram2d": [
           {
            "colorbar": {
             "outlinewidth": 0,
             "ticks": ""
            },
            "colorscale": [
             [
              0,
              "#0d0887"
             ],
             [
              0.1111111111111111,
              "#46039f"
             ],
             [
              0.2222222222222222,
              "#7201a8"
             ],
             [
              0.3333333333333333,
              "#9c179e"
             ],
             [
              0.4444444444444444,
              "#bd3786"
             ],
             [
              0.5555555555555556,
              "#d8576b"
             ],
             [
              0.6666666666666666,
              "#ed7953"
             ],
             [
              0.7777777777777778,
              "#fb9f3a"
             ],
             [
              0.8888888888888888,
              "#fdca26"
             ],
             [
              1,
              "#f0f921"
             ]
            ],
            "type": "histogram2d"
           }
          ],
          "histogram2dcontour": [
           {
            "colorbar": {
             "outlinewidth": 0,
             "ticks": ""
            },
            "colorscale": [
             [
              0,
              "#0d0887"
             ],
             [
              0.1111111111111111,
              "#46039f"
             ],
             [
              0.2222222222222222,
              "#7201a8"
             ],
             [
              0.3333333333333333,
              "#9c179e"
             ],
             [
              0.4444444444444444,
              "#bd3786"
             ],
             [
              0.5555555555555556,
              "#d8576b"
             ],
             [
              0.6666666666666666,
              "#ed7953"
             ],
             [
              0.7777777777777778,
              "#fb9f3a"
             ],
             [
              0.8888888888888888,
              "#fdca26"
             ],
             [
              1,
              "#f0f921"
             ]
            ],
            "type": "histogram2dcontour"
           }
          ],
          "mesh3d": [
           {
            "colorbar": {
             "outlinewidth": 0,
             "ticks": ""
            },
            "type": "mesh3d"
           }
          ],
          "parcoords": [
           {
            "line": {
             "colorbar": {
              "outlinewidth": 0,
              "ticks": ""
             }
            },
            "type": "parcoords"
           }
          ],
          "pie": [
           {
            "automargin": true,
            "type": "pie"
           }
          ],
          "scatter": [
           {
            "fillpattern": {
             "fillmode": "overlay",
             "size": 10,
             "solidity": 0.2
            },
            "type": "scatter"
           }
          ],
          "scatter3d": [
           {
            "line": {
             "colorbar": {
              "outlinewidth": 0,
              "ticks": ""
             }
            },
            "marker": {
             "colorbar": {
              "outlinewidth": 0,
              "ticks": ""
             }
            },
            "type": "scatter3d"
           }
          ],
          "scattercarpet": [
           {
            "marker": {
             "colorbar": {
              "outlinewidth": 0,
              "ticks": ""
             }
            },
            "type": "scattercarpet"
           }
          ],
          "scattergeo": [
           {
            "marker": {
             "colorbar": {
              "outlinewidth": 0,
              "ticks": ""
             }
            },
            "type": "scattergeo"
           }
          ],
          "scattergl": [
           {
            "marker": {
             "colorbar": {
              "outlinewidth": 0,
              "ticks": ""
             }
            },
            "type": "scattergl"
           }
          ],
          "scattermap": [
           {
            "marker": {
             "colorbar": {
              "outlinewidth": 0,
              "ticks": ""
             }
            },
            "type": "scattermap"
           }
          ],
          "scattermapbox": [
           {
            "marker": {
             "colorbar": {
              "outlinewidth": 0,
              "ticks": ""
             }
            },
            "type": "scattermapbox"
           }
          ],
          "scatterpolar": [
           {
            "marker": {
             "colorbar": {
              "outlinewidth": 0,
              "ticks": ""
             }
            },
            "type": "scatterpolar"
           }
          ],
          "scatterpolargl": [
           {
            "marker": {
             "colorbar": {
              "outlinewidth": 0,
              "ticks": ""
             }
            },
            "type": "scatterpolargl"
           }
          ],
          "scatterternary": [
           {
            "marker": {
             "colorbar": {
              "outlinewidth": 0,
              "ticks": ""
             }
            },
            "type": "scatterternary"
           }
          ],
          "surface": [
           {
            "colorbar": {
             "outlinewidth": 0,
             "ticks": ""
            },
            "colorscale": [
             [
              0,
              "#0d0887"
             ],
             [
              0.1111111111111111,
              "#46039f"
             ],
             [
              0.2222222222222222,
              "#7201a8"
             ],
             [
              0.3333333333333333,
              "#9c179e"
             ],
             [
              0.4444444444444444,
              "#bd3786"
             ],
             [
              0.5555555555555556,
              "#d8576b"
             ],
             [
              0.6666666666666666,
              "#ed7953"
             ],
             [
              0.7777777777777778,
              "#fb9f3a"
             ],
             [
              0.8888888888888888,
              "#fdca26"
             ],
             [
              1,
              "#f0f921"
             ]
            ],
            "type": "surface"
           }
          ],
          "table": [
           {
            "cells": {
             "fill": {
              "color": "#EBF0F8"
             },
             "line": {
              "color": "white"
             }
            },
            "header": {
             "fill": {
              "color": "#C8D4E3"
             },
             "line": {
              "color": "white"
             }
            },
            "type": "table"
           }
          ]
         },
         "layout": {
          "annotationdefaults": {
           "arrowcolor": "#2a3f5f",
           "arrowhead": 0,
           "arrowwidth": 1
          },
          "autotypenumbers": "strict",
          "coloraxis": {
           "colorbar": {
            "outlinewidth": 0,
            "ticks": ""
           }
          },
          "colorscale": {
           "diverging": [
            [
             0,
             "#8e0152"
            ],
            [
             0.1,
             "#c51b7d"
            ],
            [
             0.2,
             "#de77ae"
            ],
            [
             0.3,
             "#f1b6da"
            ],
            [
             0.4,
             "#fde0ef"
            ],
            [
             0.5,
             "#f7f7f7"
            ],
            [
             0.6,
             "#e6f5d0"
            ],
            [
             0.7,
             "#b8e186"
            ],
            [
             0.8,
             "#7fbc41"
            ],
            [
             0.9,
             "#4d9221"
            ],
            [
             1,
             "#276419"
            ]
           ],
           "sequential": [
            [
             0,
             "#0d0887"
            ],
            [
             0.1111111111111111,
             "#46039f"
            ],
            [
             0.2222222222222222,
             "#7201a8"
            ],
            [
             0.3333333333333333,
             "#9c179e"
            ],
            [
             0.4444444444444444,
             "#bd3786"
            ],
            [
             0.5555555555555556,
             "#d8576b"
            ],
            [
             0.6666666666666666,
             "#ed7953"
            ],
            [
             0.7777777777777778,
             "#fb9f3a"
            ],
            [
             0.8888888888888888,
             "#fdca26"
            ],
            [
             1,
             "#f0f921"
            ]
           ],
           "sequentialminus": [
            [
             0,
             "#0d0887"
            ],
            [
             0.1111111111111111,
             "#46039f"
            ],
            [
             0.2222222222222222,
             "#7201a8"
            ],
            [
             0.3333333333333333,
             "#9c179e"
            ],
            [
             0.4444444444444444,
             "#bd3786"
            ],
            [
             0.5555555555555556,
             "#d8576b"
            ],
            [
             0.6666666666666666,
             "#ed7953"
            ],
            [
             0.7777777777777778,
             "#fb9f3a"
            ],
            [
             0.8888888888888888,
             "#fdca26"
            ],
            [
             1,
             "#f0f921"
            ]
           ]
          },
          "colorway": [
           "#636efa",
           "#EF553B",
           "#00cc96",
           "#ab63fa",
           "#FFA15A",
           "#19d3f3",
           "#FF6692",
           "#B6E880",
           "#FF97FF",
           "#FECB52"
          ],
          "font": {
           "color": "#2a3f5f"
          },
          "geo": {
           "bgcolor": "white",
           "lakecolor": "white",
           "landcolor": "#E5ECF6",
           "showlakes": true,
           "showland": true,
           "subunitcolor": "white"
          },
          "hoverlabel": {
           "align": "left"
          },
          "hovermode": "closest",
          "mapbox": {
           "style": "light"
          },
          "paper_bgcolor": "white",
          "plot_bgcolor": "#E5ECF6",
          "polar": {
           "angularaxis": {
            "gridcolor": "white",
            "linecolor": "white",
            "ticks": ""
           },
           "bgcolor": "#E5ECF6",
           "radialaxis": {
            "gridcolor": "white",
            "linecolor": "white",
            "ticks": ""
           }
          },
          "scene": {
           "xaxis": {
            "backgroundcolor": "#E5ECF6",
            "gridcolor": "white",
            "gridwidth": 2,
            "linecolor": "white",
            "showbackground": true,
            "ticks": "",
            "zerolinecolor": "white"
           },
           "yaxis": {
            "backgroundcolor": "#E5ECF6",
            "gridcolor": "white",
            "gridwidth": 2,
            "linecolor": "white",
            "showbackground": true,
            "ticks": "",
            "zerolinecolor": "white"
           },
           "zaxis": {
            "backgroundcolor": "#E5ECF6",
            "gridcolor": "white",
            "gridwidth": 2,
            "linecolor": "white",
            "showbackground": true,
            "ticks": "",
            "zerolinecolor": "white"
           }
          },
          "shapedefaults": {
           "line": {
            "color": "#2a3f5f"
           }
          },
          "ternary": {
           "aaxis": {
            "gridcolor": "white",
            "linecolor": "white",
            "ticks": ""
           },
           "baxis": {
            "gridcolor": "white",
            "linecolor": "white",
            "ticks": ""
           },
           "bgcolor": "#E5ECF6",
           "caxis": {
            "gridcolor": "white",
            "linecolor": "white",
            "ticks": ""
           }
          },
          "title": {
           "x": 0.05
          },
          "xaxis": {
           "automargin": true,
           "gridcolor": "white",
           "linecolor": "white",
           "ticks": "",
           "title": {
            "standoff": 15
           },
           "zerolinecolor": "white",
           "zerolinewidth": 2
          },
          "yaxis": {
           "automargin": true,
           "gridcolor": "white",
           "linecolor": "white",
           "ticks": "",
           "title": {
            "standoff": 15
           },
           "zerolinecolor": "white",
           "zerolinewidth": 2
          }
         }
        },
        "updatemenus": [
         {
          "buttons": [
           {
            "args": [
             null,
             {
              "frame": {
               "duration": 500,
               "redraw": true
              },
              "fromcurrent": true,
              "mode": "immediate",
              "transition": {
               "duration": 500,
               "easing": "linear"
              }
             }
            ],
            "label": "&#9654;",
            "method": "animate"
           },
           {
            "args": [
             [
              null
             ],
             {
              "frame": {
               "duration": 0,
               "redraw": true
              },
              "fromcurrent": true,
              "mode": "immediate",
              "transition": {
               "duration": 0,
               "easing": "linear"
              }
             }
            ],
            "label": "&#9724;",
            "method": "animate"
           }
          ],
          "direction": "left",
          "pad": {
           "r": 10,
           "t": 70
          },
          "showactive": false,
          "type": "buttons",
          "x": 0.1,
          "xanchor": "right",
          "y": 0,
          "yanchor": "top"
         }
        ]
       }
      }
     },
     "metadata": {},
     "output_type": "display_data"
    }
   ],
   "source": [
    "from analysis.persona.analytics import make_region_choropleth, make_country_share_choropleth\n",
    "#fig = make_region_choropleth(df); fig.show()\n",
    "fig = make_country_share_choropleth(df, normalize='per_gen_p95', vmax_percentile=0.9)\n",
    "fig.show()"
   ]
  },
  {
   "cell_type": "code",
   "execution_count": null,
   "id": "3899a546",
   "metadata": {},
   "outputs": [],
   "source": []
  }
 ],
 "metadata": {
  "kernelspec": {
   "display_name": "venv",
   "language": "python",
   "name": "python3"
  },
  "language_info": {
   "codemirror_mode": {
    "name": "ipython",
    "version": 3
   },
   "file_extension": ".py",
   "mimetype": "text/x-python",
   "name": "python",
   "nbconvert_exporter": "python",
   "pygments_lexer": "ipython3",
   "version": "3.12.9"
  }
 },
 "nbformat": 4,
 "nbformat_minor": 5
}
