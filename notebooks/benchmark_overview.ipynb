{
 "cells": [
  {
   "cell_type": "markdown",
   "metadata": {},
   "source": [
    "# Benchmark Overview\n",
    "Interaktives Notebook zur Analyse von Benchmark-Ergebnissen nach demografischen Merkmalen."
   ]
  },
  {
   "cell_type": "code",
   "execution_count": null,
   "metadata": {},
   "outputs": [],
   "source": [
    "import sys\n",
    "from pathlib import Path\n",
    "project_root = Path.cwd()\n",
    "analysis_src = project_root / 'apps' / 'analysis' / 'src'\n",
    "if str(analysis_src) not in sys.path: sys.path.append(str(analysis_src))\n",
    "\n",
    "from analysis.benchmarks.analytics import BenchQuery, load_benchmark_dataframe, plot_rating_distribution, plot_rating_distribution_by_genid, plot_category_means, plot_deltas_with_significance\n",
    "from analysis.persona.analytics import set_default_theme\n",
    "import matplotlib.pyplot as plt\n",
    "set_default_theme()\n"
   ]
  },
  {
   "cell_type": "code",
   "execution_count": null,
   "metadata": {},
   "outputs": [
    {
     "data": {
      "application/vnd.jupyter.widget-view+json": {
       "model_id": "47044f2f7ea34133b04b921b49866d7b",
       "version_major": 2,
       "version_minor": 0
      },
      "text/plain": [
       "Text(value='12,13', description='gen_ids')"
      ]
     },
     "metadata": {},
     "output_type": "display_data"
    },
    {
     "data": {
      "application/vnd.jupyter.widget-view+json": {
       "model_id": "748fc914e662456caa9a8cdd3f7bf675",
       "version_major": 2,
       "version_minor": 0
      },
      "text/plain": [
       "Text(value='', description='models')"
      ]
     },
     "metadata": {},
     "output_type": "display_data"
    },
    {
     "data": {
      "application/vnd.jupyter.widget-view+json": {
       "model_id": "d16caf9907c74e278ffef5eee9a67f74",
       "version_major": 2,
       "version_minor": 0
      },
      "text/plain": [
       "Text(value='', description='questions')"
      ]
     },
     "metadata": {},
     "output_type": "display_data"
    },
    {
     "data": {
      "application/vnd.jupyter.widget-view+json": {
       "model_id": "f2638f3f348543838f145ee187c7146c",
       "version_major": 2,
       "version_minor": 0
      },
      "text/plain": [
       "FloatSlider(value=0.05, description='alpha', max=0.2, min=0.001, step=0.001)"
      ]
     },
     "metadata": {},
     "output_type": "display_data"
    },
    {
     "data": {
      "application/vnd.jupyter.widget-view+json": {
       "model_id": "60e910a8555e4e4f94044e8cc70aa553",
       "version_major": 2,
       "version_minor": 0
      },
      "text/plain": [
       "IntSlider(value=2000, description='permutations', max=10000, min=200, step=200)"
      ]
     },
     "metadata": {},
     "output_type": "display_data"
    },
    {
     "data": {
      "application/vnd.jupyter.widget-view+json": {
       "model_id": "2671787b1c2c4e1e9072ab4d1187e63b",
       "version_major": 2,
       "version_minor": 0
      },
      "text/plain": [
       "Button(description='Run analysis', style=ButtonStyle())"
      ]
     },
     "metadata": {},
     "output_type": "display_data"
    },
    {
     "data": {
      "application/vnd.jupyter.widget-view+json": {
       "model_id": "9116f88702454c16b64abd8b20c097ca",
       "version_major": 2,
       "version_minor": 0
      },
      "text/plain": [
       "Output()"
      ]
     },
     "metadata": {},
     "output_type": "display_data"
    }
   ],
   "source": [
    "import ipywidgets as W\n",
    "gen_ids = W.Text(value='12,13', description='gen_ids')\n",
    "models = W.Text(value='', description='models')\n",
    "questions = W.Text(value='', description='questions')\n",
    "alpha = W.FloatSlider(value=0.05, min=0.001, max=0.2, step=0.001, description='alpha')\n",
    "perms = W.IntSlider(value=2000, min=200, max=10000, step=200, description='permutations')\n",
    "display(gen_ids, models, questions, alpha, perms)\n",
    "\n",
    "def parse_csv(text):\n",
    "    txt = text.strip()\n",
    "    return [t.strip() for t in txt.split(',') if t.strip()] or None\n",
    "\n",
    "def run():\n",
    "    gids = [int(x) for x in parse_csv(gen_ids.value) or []]\n",
    "    mq = parse_csv(models.value)\n",
    "    qq = parse_csv(questions.value)\n",
    "    cfg = BenchQuery(gen_ids=gids, model_names=mq, question_uuids=qq)\n",
    "    df = load_benchmark_dataframe(cfg)\n",
    "    if df.empty:\n",
    "        print('Keine Daten für die Auswahl.')\n",
    "        return df\n",
    "    display(df.head())\n",
    "    ax = plot_rating_distribution(df); plt.show()\n",
    "    if len(df['gen_id'].unique())>1:\n",
    "        ax2 = plot_rating_distribution_by_genid(df); plt.show()\n",
    "    for col in ['gender','origin_region','religion','migration_status','sexuality','marriage_status','education']:\n",
    "        if col in df.columns:\n",
    "            ax3 = plot_deltas_with_significance(df, col, n_perm=perms.value, alpha=alpha.value); plt.show()\n",
    "    return df\n",
    "\n",
    "btn = W.Button(description='Run analysis')\n",
    "out = W.Output()\n",
    "def on_click(_):\n",
    "    out.clear_output()\n",
    "    with out: run()\n",
    "btn.on_click(on_click)\n",
    "display(btn, out)\n"
   ]
  },
  {
   "cell_type": "code",
   "execution_count": null,
   "id": "9db38e2d",
   "metadata": {},
   "outputs": [],
   "source": []
  }
 ],
 "metadata": {
  "kernelspec": {
   "display_name": "venv",
   "language": "python",
   "name": "python3"
  },
  "language_info": {
   "codemirror_mode": {
    "name": "ipython",
    "version": 3
   },
   "file_extension": ".py",
   "mimetype": "text/x-python",
   "name": "python",
   "nbconvert_exporter": "python",
   "pygments_lexer": "ipython3",
   "version": "3.12.9"
  }
 },
 "nbformat": 4,
 "nbformat_minor": 5
}
