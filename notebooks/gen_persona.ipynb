{
 "cells": [
  {
   "cell_type": "code",
   "execution_count": 1,
   "id": "16b76745",
   "metadata": {},
   "outputs": [],
   "source": [
    "import sys\n",
    "import os\n",
    "sys.path.append(os.path.abspath(os.path.join(os.getcwd(), '..')))"
   ]
  },
  {
   "cell_type": "code",
   "execution_count": 2,
   "id": "e242f1b8",
   "metadata": {},
   "outputs": [],
   "source": [
    "from persona_generator.sampler.age_sampler import AgeSampler\n",
    "from persona_generator.sampler.gender_sampler import GenderSampler\n",
    "from persona_generator.sampler.occupation_sampler import OccupationSampler\n",
    "from persona_generator.sampler.marriage_status_sampler import MarriageStatusSampler\n",
    "from persona_generator.sampler.education_sampler import EducationSampler\n",
    "from persona_generator.sampler.migration_status_sampler import MigrationStatusSampler\n",
    "from persona_generator.sampler.origin_sampler import OriginSampler\n",
    "from persona_generator.sampler.religion_sampler import ReligionSampler\n",
    "from persona_generator.sampler.sexuality_sampler import SexualitySampler"
   ]
  },
  {
   "cell_type": "code",
   "execution_count": 3,
   "id": "f2cc0958",
   "metadata": {},
   "outputs": [],
   "source": [
    "age_sampler = AgeSampler()\n",
    "gender_sampler = GenderSampler()\n",
    "occupation_sampler = OccupationSampler()\n",
    "marriage_status_sampler = MarriageStatusSampler()\n",
    "education_sampler = EducationSampler()\n",
    "migration_status_sampler = MigrationStatusSampler()\n",
    "origin_sampler = OriginSampler()\n",
    "religion_sampler = ReligionSampler()\n",
    "sexuality_sampler = SexualitySampler()"
   ]
  },
  {
   "cell_type": "code",
   "execution_count": 6,
   "id": "91fdd95e",
   "metadata": {},
   "outputs": [],
   "source": [
    "def sample_persona():\n",
    "    age = age_sampler.sample()\n",
    "    gender = gender_sampler.sample(age)\n",
    "    occupation = occupation_sampler.sample(age)\n",
    "    marriage_status = marriage_status_sampler.sample(age)\n",
    "    education = education_sampler.sample(age, gender)\n",
    "    migration_status = migration_status_sampler.sample(age, gender)\n",
    "    origin = origin_sampler.sample(migration_status==\"with_migration\")\n",
    "    religion = religion_sampler.sample(origin)\n",
    "    sexuality = sexuality_sampler.sample()\n",
    "    return {\n",
    "        \"age\": int(age),\n",
    "        \"gender\": str(gender),\n",
    "        \"occupation\": str(occupation),\n",
    "        \"marriage_status\": str(marriage_status),\n",
    "        \"education\": str(education),\n",
    "        \"migration_status\": str(migration_status),\n",
    "        \"origin\": str(origin),\n",
    "        \"religion\": str(religion),\n",
    "        \"sexuality\": str(sexuality)\n",
    "    }"
   ]
  },
  {
   "cell_type": "code",
   "execution_count": 8,
   "id": "87a32b2d",
   "metadata": {},
   "outputs": [
    {
     "data": {
      "text/plain": [
       "{'age': 34,\n",
       " 'gender': 'female',\n",
       " 'occupation': 'Soldat/in',\n",
       " 'marriage_status': 'single',\n",
       " 'education': 'Realschule oder gleichwertiger Abschluss',\n",
       " 'migration_status': 'with_migration',\n",
       " 'origin': 'Ukraine',\n",
       " 'religion': 'Christians',\n",
       " 'sexuality': 'heterosexual'}"
      ]
     },
     "execution_count": 8,
     "metadata": {},
     "output_type": "execute_result"
    }
   ],
   "source": [
    "sample_persona()"
   ]
  },
  {
   "cell_type": "code",
   "execution_count": 16,
   "id": "7cd1ce9f",
   "metadata": {},
   "outputs": [
    {
     "data": {
      "text/plain": [
       "{'age': 34,\n",
       " 'gender': 'female',\n",
       " 'occupation': 'Sekretär/in',\n",
       " 'marriage_status': 'single',\n",
       " 'education': 'Fachhochschul- oder Hochschulreife',\n",
       " 'migration_status': 'with_migration',\n",
       " 'origin': 'Sri Lanka',\n",
       " 'religion': 'Buddhists',\n",
       " 'sexuality': 'heterosexual'}"
      ]
     },
     "execution_count": 16,
     "metadata": {},
     "output_type": "execute_result"
    }
   ],
   "source": [
    "sample_persona()"
   ]
  },
  {
   "cell_type": "code",
   "execution_count": null,
   "id": "df1009d5",
   "metadata": {},
   "outputs": [],
   "source": []
  },
  {
   "cell_type": "code",
   "execution_count": null,
   "id": "47e17c01",
   "metadata": {},
   "outputs": [],
   "source": []
  }
 ],
 "metadata": {
  "kernelspec": {
   "display_name": "venv",
   "language": "python",
   "name": "python3"
  },
  "language_info": {
   "codemirror_mode": {
    "name": "ipython",
    "version": 3
   },
   "file_extension": ".py",
   "mimetype": "text/x-python",
   "name": "python",
   "nbconvert_exporter": "python",
   "pygments_lexer": "ipython3",
   "version": "3.9.6"
  }
 },
 "nbformat": 4,
 "nbformat_minor": 5
}
